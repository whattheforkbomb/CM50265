{
 "cells": [
  {
   "cell_type": "markdown",
   "id": "44281064",
   "metadata": {},
   "source": [
    "### Coursework 2\n",
    "\n",
    "In this coursework you will be aiming to complete two classification tasks. \n",
    "Both the classification tasks relate to text classification tasks. \n",
    "\n",
    "One task is to be solved using Support Vector Machines. The other has to be solved using Boosting.\n",
    "\n",
    "The specific tasks and the marking for the various tasks are provided in the notebook. Each task is expected to be accompanied by a lab-report. Each task can have a concise lab report that is maximum of one page in an A4 size. You will be expected to submit your Jupyter Notebook and all lab reports as a single zip file. You could have additional functions implemented that you require for carrying out each task.\n"
   ]
  },
  {
   "cell_type": "markdown",
   "id": "221ffe46",
   "metadata": {},
   "source": [
    "#### Task 1\n",
    "\n",
    "In this task, you need to obtain sentiment analysis for the provided dataset. The dataset consists of movie reviews with the sentiments being provided. The sentiments are either positive or negative. You need to train an SVM based classifier to obtain train and check on the sample test dataset provided. The method will be evaluated also against an external test set. Please do not hardcode any dimensions or number of samples while writing the code. It should be possible to automate the testing and hardcoding values does not allow for automated testing. \n",
    "\n",
    "You are allowed to use scikit-learn to implement the SVM. However, you are expected to write your own kernels.\n",
    "\n",
    "You are allowed to use the existing library functions such as scikit-learn or numpy for obtaining the SVM. The main idea is to analyse the dataset using different kind of kernels. You are also supposed to write your own custom text kernels. Refer to the documentation provided [here](https://scikit-learn.org/stable/modules/svm.html) at 1.4.6.2 and an example [here](https://scikit-learn.org/stable/auto_examples/svm/plot_custom_kernel.html) for writing your own kernels.\n",
    "\n",
    "Details regarding the marking have been provided in the coursework specification file. Ensure that the code can be run with different test files. "
   ]
  },
  {
   "cell_type": "markdown",
   "id": "7385ce53",
   "metadata": {},
   "source": [
    "#### Process the text and obtain a bag of words-based features "
   ]
  },
  {
   "cell_type": "code",
   "execution_count": 2,
   "id": "e0ac481e",
   "metadata": {},
   "outputs": [],
   "source": [
    "\n",
    "import numpy as np\n",
    "import nltk\n",
    "import pandas as pd\n",
    "import matplotlib.pyplot as plt\n",
    "\n",
    "data_cache = {'Train_path':'', 'Test_path':'', 'X_train':None, 'y_train':None, 'X_test': None, 'y_train':None}\n",
    "\n",
    "def clear_cache():\n",
    "    data_cache['Test_path'] = ''\n",
    "    data_cache['Train_path'] = ''\n",
    "    data_cache['X_train'] = None\n",
    "    data_cache['y_train'] = None\n",
    "    data_cache['X_test'] = None\n",
    "    data_cache['y_test'] = None\n",
    "    \n",
    "def load_data(train_file, test_file):\n",
    "    # Read the CSV file and extract Bag of Words Features\n",
    "    \n",
    "    train_df = pd.read_csv(train_file)\n",
    "    test_df = pd.read_csv(test_file)\n",
    "    \n",
    "    raw_X_train = list(train_df.review)\n",
    "    y_train = list(map( (lambda x : 0 if x == 'negative' else 1), train_df.sentiment))\n",
    "    \n",
    "    raw_X_test = list(test_df.review)\n",
    "    y_test = list(map( (lambda x : 0 if x == 'negative' else 1), test_df.sentiment))\n",
    "    \n",
    "    return raw_train_x, train_y, raw_test_x, test_y \n",
    "\n",
    "def extract_bag_of_words_train_test(train_file, test_file):\n",
    "    if(data_cache['X_train'] is not None \n",
    "        and data_cache['y_train'] is not None\n",
    "        and data_cache['X_test']is not None\n",
    "        and data_cache['y_test'] is not None\n",
    "        and data_cache['Train_path'] == train_file\n",
    "        and data_cache['Test_path'] == test_file):\n",
    "        print('Getting from cache')\n",
    "        return (data_cache['X_train'], data_cache['y_train'], data_cache['X_test'], data_cache['y_test'])\n",
    "\n",
    "    # Read the CSV file and extract Bag of Words Features\n",
    "    train_df = pd.read_csv(train_file)\n",
    "    test_df = pd.read_csv(test_file)\n",
    "    \n",
    "    raw_X_train = list(train_df.review)\n",
    "    y_train = list(map( (lambda x : 0 if x == 'negative' else 1), train_df.sentiment))\n",
    "    \n",
    "    raw_X_test = list(test_df.review)\n",
    "    y_test = list(map( (lambda x : 0 if x == 'negative' else 1), test_df.sentiment))\n",
    "    \n",
    "    X_train = get_embeddings(raw_X_train)\n",
    "    X_test  = get_embeddings(raw_X_test)\n",
    "    \n",
    "    data_cache['Test_path'] = test_file\n",
    "    data_cache['Train_path'] = train_file\n",
    "    data_cache['X_train'] = X_train\n",
    "    data_cache['y_train'] = y_train\n",
    "    data_cache['X_test'] = X_test\n",
    "    data_cache['y_test'] = y_test\n",
    "    return (X_train, y_train, X_test, y_test)\n",
    "\n",
    "# def install_embedding_model():\n",
    "#     import importlib.util\n",
    "#     import subprocess\n",
    "#     import sys\n",
    "   \n",
    "#     package_name = 'sentence-transformers'\n",
    "\n",
    "#     #check if already installed\n",
    "#     spec = importlib.util.find_spec(package_name)\n",
    "#     if spec is None:\n",
    "#         subprocess.check_call([sys.executable, \"-m\", \"pip\", \"install\", package_name])\n",
    "\n",
    "def get_embeddings(reviews):\n",
    "    #\n",
    "    from sentence_transformers import SentenceTransformer\n",
    "\n",
    "    model = SentenceTransformer('sentence-transformers/all-MiniLM-L12-v2')#'sentence-transformers/paraphrase-MiniLM-L3-v2')\n",
    "    embeddings = model.encode(reviews)\n",
    "    return embeddings\n",
    "\n",
    "\n",
    "train_file = 'movie_review_test.csv'\n",
    "test_file =  'movie_review_test.csv'\n",
    "\n",
    "#x_test, y_train, x_test, y_test = extract_bag_of_words_train_test(train_file, test_file)\n",
    "#embeddings = get_embeddings(x)\n",
    "\n",
    "# print(len(x), len(y))\n",
    "# print(len(embeddings))"
   ]
  },
  {
   "cell_type": "code",
   "execution_count": null,
   "id": "02ff5be2",
   "metadata": {},
   "outputs": [],
   "source": [
    "install_embedding_model()"
   ]
  },
  {
   "cell_type": "code",
   "execution_count": 75,
   "id": "68b1dc54",
   "metadata": {},
   "outputs": [
    {
     "name": "stdout",
     "output_type": "stream",
     "text": [
      "(769,)\n"
     ]
    }
   ],
   "source": []
  },
  {
   "cell_type": "code",
   "execution_count": 2,
   "id": "e94c07a4",
   "metadata": {},
   "outputs": [],
   "source": [
    "import numpy as np\n",
    "from sklearn import svm\n",
    "\n",
    "class SVMClassifier:\n",
    "    def __init__(self):\n",
    "        \n",
    "        #implement initialisation\n",
    "        #self.some_paramter=1\n",
    "        self.clf = svm.SVC(decision_function_shape='ovo')\n",
    "        self.clf.kernel = 'rbf'\n",
    "        \n",
    "    # define your own kernel here\n",
    "    # Refer to the documentation here: https://scikit-learn.org/stable/auto_examples/svm/plot_custom_kernel.html\n",
    "    def fit(self, X,y):\n",
    "        # training of the SVM\n",
    "        # Ensure you call your own defined kernel here\n",
    "\n",
    "        self.clf.fit(X, y)\n",
    "               \n",
    "        return\n",
    "    \n",
    "    def predict(self, X):\n",
    "        # prediction routine for the SVM\n",
    "        predictions = self.clf.predict(X)\n",
    "        #print('predictions:', len(predictions))\n",
    "        \n",
    "        return predictions"
   ]
  },
  {
   "cell_type": "markdown",
   "id": "35e6f272",
   "metadata": {},
   "source": [
    "### Test function that will be called to evaluate your code. Separate test dataset will be provided\n",
    "\n",
    "Do not modify the code below. Please write your code above such that it can be evaluated by the function below. You can modify your code above such that you obtain the best performance through this function. "
   ]
  },
  {
   "cell_type": "code",
   "execution_count": 3,
   "id": "89603f43",
   "metadata": {},
   "outputs": [],
   "source": [
    "from sklearn.metrics import accuracy_score\n",
    "\n",
    "def test_func_svm(dataset_train, dataset_test):    \n",
    "    (X_train, Y_train, X_test, Y_test) = extract_bag_of_words_train_test(dataset_train, dataset_test)\n",
    "    sc = SVMClassifier()\n",
    "    #print(X_train, Y_train)\n",
    "    sc.fit(X_train, Y_train)\n",
    "    Y_Pred = sc.predict(X_test)\n",
    "    acc = accuracy_score(Y_test, Y_Pred)\n",
    "    #print(\"Accuracy:\",acc)\n",
    "    return acc\n",
    "\n",
    "def test_svm(model, train_x, train_y, test_x, test_y):  \n",
    "    sc = model \n",
    "    #print(X_train, Y_train)\n",
    "    sc.fit(train_x, train_y)\n",
    "    Y_Pred = sc.predict(test_x)\n",
    "    acc = accuracy_score(test_y, Y_Pred)\n",
    "    #print(\"Accuracy:\",acc)\n",
    "    return acc\n",
    "\n",
    "def crossval_svm(model, x, y, kfolds = 5):\n",
    "    from sklearn.model_selection import KFold\n",
    "    \n",
    "    kfold_accuracys = []\n",
    "    \n",
    "    kf = KFold(n_splits = kfolds)\n",
    "    train_x = kf.split(x,y)\n",
    "    #print(train_x)\n",
    "    \n",
    "    \n",
    "    for train_index, val_index in kf.split(x):\n",
    "        train_x = x[train_index]\n",
    "        train_y = y[train_index]\n",
    "        val_x = x[val_index]\n",
    "        val_y = y[val_index]\n",
    "        \n",
    "        acc = test_svm(model, train_x, train_y, val_x, val_y)\n",
    "        #print(acc)\n",
    "        kfold_accuracys.append(acc)\n",
    "        \n",
    "    return np.mean(kfold_accuracys)\n",
    "        \n"
   ]
  },
  {
   "cell_type": "code",
   "execution_count": 21,
   "id": "15ac1b1e",
   "metadata": {},
   "outputs": [
    {
     "name": "stdout",
     "output_type": "stream",
     "text": [
      "(5000,)\n"
     ]
    }
   ],
   "source": [
    "#X_train, y_train, X_test, y_test  = extract_bag_of_words_train_test(\"movie_review_train.csv\", \"movie_review_test.csv\")\n",
    "\n"
   ]
  },
  {
   "cell_type": "code",
   "execution_count": 4,
   "id": "4ffd4adf",
   "metadata": {},
   "outputs": [
    {
     "ename": "NameError",
     "evalue": "name 'X_train' is not defined",
     "output_type": "error",
     "traceback": [
      "\u001b[0;31m---------------------------------------------------------------------------\u001b[0m",
      "\u001b[0;31mNameError\u001b[0m                                 Traceback (most recent call last)",
      "Input \u001b[0;32mIn [4]\u001b[0m, in \u001b[0;36m<cell line: 7>\u001b[0;34m()\u001b[0m\n\u001b[1;32m      3\u001b[0m \u001b[38;5;66;03m#Hyperparams chosen with grid search, need to implement params in the wrapper constructor\u001b[39;00m\n\u001b[1;32m      4\u001b[0m \u001b[38;5;66;03m#model.clf = svm.SVC(decision_function_shape='ovo', kernel = 'rbf', gamma = 1, C = 1)\u001b[39;00m\n\u001b[1;32m      6\u001b[0m model\u001b[38;5;241m.\u001b[39mclf \u001b[38;5;241m=\u001b[39m svm\u001b[38;5;241m.\u001b[39mSVC(decision_function_shape\u001b[38;5;241m=\u001b[39m\u001b[38;5;124m'\u001b[39m\u001b[38;5;124movo\u001b[39m\u001b[38;5;124m'\u001b[39m, kernel \u001b[38;5;241m=\u001b[39m \u001b[38;5;124m'\u001b[39m\u001b[38;5;124mpoly\u001b[39m\u001b[38;5;124m'\u001b[39m, degree \u001b[38;5;241m=\u001b[39m \u001b[38;5;241m1\u001b[39m, C \u001b[38;5;241m=\u001b[39m \u001b[38;5;241m1\u001b[39m)\n\u001b[0;32m----> 7\u001b[0m cross_val_acc \u001b[38;5;241m=\u001b[39m crossval_svm(model, \u001b[43mX_train\u001b[49m, np\u001b[38;5;241m.\u001b[39marray(y_train))\n\u001b[1;32m      9\u001b[0m test_acc \u001b[38;5;241m=\u001b[39m test_func_svm(\u001b[38;5;124m\"\u001b[39m\u001b[38;5;124mmovie_review_train.csv\u001b[39m\u001b[38;5;124m\"\u001b[39m, \u001b[38;5;124m\"\u001b[39m\u001b[38;5;124mmovie_review_test.csv\u001b[39m\u001b[38;5;124m\"\u001b[39m)\n\u001b[1;32m     11\u001b[0m \u001b[38;5;28mprint\u001b[39m(\u001b[38;5;124m\"\u001b[39m\u001b[38;5;124mCross val accuracy: \u001b[39m\u001b[38;5;124m\"\u001b[39m, cross_val_acc, \u001b[38;5;124m\"\u001b[39m\u001b[38;5;124mTest accuracy: \u001b[39m\u001b[38;5;124m\"\u001b[39m, test_acc)\n",
      "\u001b[0;31mNameError\u001b[0m: name 'X_train' is not defined"
     ]
    }
   ],
   "source": [
    "#\n",
    "model = SVMClassifier()\n",
    "#Hyperparams chosen with grid search, need to implement params in the wrapper constructor\n",
    "#model.clf = svm.SVC(decision_function_shape='ovo', kernel = 'rbf', gamma = 1, C = 1)\n",
    "\n",
    "model.clf = svm.SVC(decision_function_shape='ovo', kernel = 'poly', degree = 1, C = 1)\n",
    "cross_val_acc = crossval_svm(model, X_train, np.array(y_train))\n",
    "\n",
    "test_acc = test_func_svm(\"movie_review_train.csv\", \"movie_review_test.csv\")\n",
    "\n",
    "print(\"Cross val accuracy: \", cross_val_acc, \"Test accuracy: \", test_acc)"
   ]
  },
  {
   "cell_type": "code",
   "execution_count": 62,
   "id": "12d08be7",
   "metadata": {},
   "outputs": [
    {
     "name": "stdout",
     "output_type": "stream",
     "text": [
      "{'C': 5488.145039273248, 'gamma': 7151.903663724195}\n"
     ]
    }
   ],
   "source": [
    "### rbf hyperparam tuning - very slow do not run - it resulted in c=1, gamma=1\n",
    "from sklearn.model_selection import GridSearchCV,StratifiedKFold\n",
    "\n",
    "C_range = 10. ** np.linspace(-3, 3, 15)\n",
    "gamma_range = 10. ** np.linspace(-3,4, 15)\n",
    "distributions = dict(C = uniform(loc=10e-3, scale=10e3), gamma = uniform(loc=10e-3, scale=10e3))\n",
    "\n",
    "#hyperparameters = {'C':C_range, 'gamma':gamma_range}\n",
    "svc = SVMClassifier()\n",
    "tuner = RandomizedSearchCV(svm.SVC(), distributions, scoring='accuracy', n_iter=20, random_state=0)\n",
    "tuner.fit(X_train, y_train)\n",
    "\n",
    "print(tuner.best_params_)"
   ]
  },
  {
   "cell_type": "code",
   "execution_count": 15,
   "id": "eb2d81e3",
   "metadata": {},
   "outputs": [
    {
     "name": "stdout",
     "output_type": "stream",
     "text": [
      "{'C': 1.0, 'degree': 1.0, 'kernel': 'poly'}\n"
     ]
    }
   ],
   "source": [
    "### polynomial hyperparam tuning - it chose 1, 1 again\n",
    "from sklearn.model_selection import GridSearchCV,StratifiedKFold\n",
    "\n",
    "C_range = 10. ** np.linspace(-3, 3, 15)\n",
    "degree_range = np.linspace(1, 20, 6)\n",
    "\n",
    "hyperparameters = {'kernel': ['poly'], 'C':C_range, 'degree':degree_range}\n",
    "svc = SVMClassifier()\n",
    "tuner = GridSearchCV(svc.clf, hyperparameters,scoring = 'accuracy', cv=StratifiedKFold(5))\n",
    "tuner.fit(X_train, y_train)\n",
    "\n",
    "print(tuner.best_params_)"
   ]
  },
  {
   "cell_type": "markdown",
   "id": "61056292",
   "metadata": {},
   "source": [
    "### Task 2\n",
    "\n",
    "In this task you need to implement a boosting based classifier that can be used to classify the images. \n",
    "\n",
    "Details regarding the marking for the coursework are provided in the coursework specification file. Please ensure that your code will work with a different test file than the one provided with the coursework.\n",
    "\n",
    "Note that the boosting classifier you implement can include decision trees from scikit-learn or your own decision trees. Use the same sentiment analysis dataset for evaluation."
   ]
  },
  {
   "cell_type": "code",
   "execution_count": 3,
   "id": "3805e672",
   "metadata": {},
   "outputs": [],
   "source": [
    "from sklearn.ensemble import AdaBoostClassifier\n",
    "from sklearn.ensemble import GradientBoostingClassifier\n",
    "from sklearn import tree\n",
    "import math\n",
    "import random\n",
    "\n",
    "class BoostingClassifier:\n",
    "    # You need to implement this classifier. \n",
    "    def __init__(self, num_classifiers = 50, max_depth = 3):\n",
    "        import numpy as np\n",
    "        #implement initialisation\n",
    "        self.num_classifiers = num_classifiers\n",
    "        self.max_depth = max_depth\n",
    "        self.classifiers = []\n",
    "        self.alphas = np.ones(self.num_classifiers)\n",
    "        self.alphas /= self.num_classifiers\n",
    "        \n",
    "    def fit(self, X,y):\n",
    "        signed_y = [1 if x == 1 else -1 for x in y]\n",
    "        num_samples = X.shape[0]\n",
    "        w = np.random.rand(num_samples)\n",
    "        w /= num_samples\n",
    "        alph = np.ones(self.num_classifiers)\n",
    "        #print(signed_y)\n",
    "        for c in range(self.num_classifiers):\n",
    "#             plt.hist(w)\n",
    "#             plt.show()\n",
    "            \n",
    "            clf = tree.DecisionTreeClassifier(max_depth = self.max_depth)#splitter='random')\n",
    "            self.classifiers.append(clf)\n",
    "            \n",
    "#             random_w = np.random.rand(num_samples)\n",
    "#             random_w /= np.sum(random_w)\n",
    "            clf.fit(X, signed_y, sample_weight = w)\n",
    "            \n",
    "            #get predictions and calculate error rate\n",
    "            predictions = clf.predict(X)     \n",
    "            error_rate = np.count_nonzero(predictions != signed_y) / num_samples\n",
    "            #print(error_rate)\n",
    "            #print('training:', h[:5])\n",
    "            #set classifier weight\n",
    "            alpha = 0.5 * math.log((1-error_rate)/error_rate) if error_rate > 0 else 1\n",
    "            self.alphas[c]  = alpha\n",
    "            #update sample weights\n",
    "            \n",
    "            new_w = np.copy(w)\n",
    "            for i in range(num_samples):\n",
    "                w[i] = w[i] * math.exp(-1 * alpha * signed_y[i] * predictions[i])\n",
    "                \n",
    "            w /= np.sum(new_w)\n",
    "        \n",
    "#         plt.hist(w)\n",
    "#         plt.show() \n",
    "#         plt.hist(self.alphas)\n",
    "#         plt.show()\n",
    "        #implement training of the boosting classifier\n",
    "        return self\n",
    "    \n",
    "    def get_params(self, deep= False):\n",
    "        return {'num_classifiers':self.num_classifiers, 'max_depth':self.max_depth}\n",
    "    \n",
    "    def predict(self, X):\n",
    "        # implement prediction of the boosting classifier\n",
    "        h = []\n",
    "        accum = []\n",
    "        for x in X:\n",
    "            cumsum = 0\n",
    "            for c in range(self.num_classifiers):\n",
    "                cumsum += self.alphas[c] * self.classifiers[c].predict(np.array(x).reshape(1,-1))\n",
    "                accum.append(cumsum)\n",
    "                #print(cumsum)\n",
    "            h.append(np.sign(cumsum))\n",
    "        #print('predicting:', h[:5])\n",
    "        return [0 if x < 0 else 1 for x in h]"
   ]
  },
  {
   "cell_type": "markdown",
   "id": "af6e0987",
   "metadata": {},
   "source": [
    "### Test function that will be called to evaluate your code. Separate test dataset will be provided\n",
    "\n",
    "Do not modify the code below. Please write your code above such that it can be evaluated by the function below. You can modify your code above such that you obtain the best performance through this function. "
   ]
  },
  {
   "cell_type": "code",
   "execution_count": 4,
   "id": "4632591c",
   "metadata": {},
   "outputs": [],
   "source": [
    "def test_func_boosting(dataset_train, dataset_test):\n",
    "    from sklearn.metrics import accuracy_score    \n",
    "    X_train, Y_train, X_test, Y_test = extract_bag_of_words_train_test(dataset_train, dataset_test)\n",
    "    bc = BoostingClassifier()\n",
    "    bc.fit(X_train, Y_train)\n",
    "    #print(X_test.shape)\n",
    "    Y_Pred = bc.predict(X_test)\n",
    "    #print(np.array(Y_test).shape, np.array(Y_Pred).shape)\n",
    "    acc = accuracy_score(Y_test, Y_Pred)\n",
    "    return acc"
   ]
  },
  {
   "cell_type": "code",
   "execution_count": 5,
   "id": "d6c27de1",
   "metadata": {
    "scrolled": true
   },
   "outputs": [
    {
     "ename": "KeyboardInterrupt",
     "evalue": "",
     "output_type": "error",
     "traceback": [
      "\u001b[0;31m---------------------------------------------------------------------------\u001b[0m",
      "\u001b[0;31mKeyboardInterrupt\u001b[0m                         Traceback (most recent call last)",
      "Input \u001b[0;32mIn [5]\u001b[0m, in \u001b[0;36m<cell line: 1>\u001b[0;34m()\u001b[0m\n\u001b[0;32m----> 1\u001b[0m acc \u001b[38;5;241m=\u001b[39m \u001b[43mtest_func_boosting\u001b[49m\u001b[43m(\u001b[49m\u001b[38;5;124;43m\"\u001b[39;49m\u001b[38;5;124;43mmovie_review_train.csv\u001b[39;49m\u001b[38;5;124;43m\"\u001b[39;49m\u001b[43m,\u001b[49m\u001b[43m \u001b[49m\u001b[38;5;124;43m\"\u001b[39;49m\u001b[38;5;124;43mmovie_review_test.csv\u001b[39;49m\u001b[38;5;124;43m\"\u001b[39;49m\u001b[43m)\u001b[49m\n\u001b[1;32m      2\u001b[0m \u001b[38;5;28mprint\u001b[39m(\u001b[38;5;124m\"\u001b[39m\u001b[38;5;124mAcc:\u001b[39m\u001b[38;5;124m\"\u001b[39m, acc)\n",
      "Input \u001b[0;32mIn [4]\u001b[0m, in \u001b[0;36mtest_func_boosting\u001b[0;34m(dataset_train, dataset_test)\u001b[0m\n\u001b[1;32m      1\u001b[0m \u001b[38;5;28;01mdef\u001b[39;00m \u001b[38;5;21mtest_func_boosting\u001b[39m(dataset_train, dataset_test):\n\u001b[1;32m      2\u001b[0m     \u001b[38;5;28;01mfrom\u001b[39;00m \u001b[38;5;21;01msklearn\u001b[39;00m\u001b[38;5;21;01m.\u001b[39;00m\u001b[38;5;21;01mmetrics\u001b[39;00m \u001b[38;5;28;01mimport\u001b[39;00m accuracy_score    \n\u001b[0;32m----> 3\u001b[0m     X_train, Y_train, X_test, Y_test \u001b[38;5;241m=\u001b[39m \u001b[43mextract_bag_of_words_train_test\u001b[49m\u001b[43m(\u001b[49m\u001b[43mdataset_train\u001b[49m\u001b[43m,\u001b[49m\u001b[43m \u001b[49m\u001b[43mdataset_test\u001b[49m\u001b[43m)\u001b[49m\n\u001b[1;32m      4\u001b[0m     bc \u001b[38;5;241m=\u001b[39m BoostingClassifier()\n\u001b[1;32m      5\u001b[0m     bc\u001b[38;5;241m.\u001b[39mfit(X_train, Y_train)\n",
      "Input \u001b[0;32mIn [2]\u001b[0m, in \u001b[0;36mextract_bag_of_words_train_test\u001b[0;34m(train_file, test_file)\u001b[0m\n\u001b[1;32m     47\u001b[0m raw_X_test \u001b[38;5;241m=\u001b[39m \u001b[38;5;28mlist\u001b[39m(test_df\u001b[38;5;241m.\u001b[39mreview)\n\u001b[1;32m     48\u001b[0m y_test \u001b[38;5;241m=\u001b[39m \u001b[38;5;28mlist\u001b[39m(\u001b[38;5;28mmap\u001b[39m( (\u001b[38;5;28;01mlambda\u001b[39;00m x : \u001b[38;5;241m0\u001b[39m \u001b[38;5;28;01mif\u001b[39;00m x \u001b[38;5;241m==\u001b[39m \u001b[38;5;124m'\u001b[39m\u001b[38;5;124mnegative\u001b[39m\u001b[38;5;124m'\u001b[39m \u001b[38;5;28;01melse\u001b[39;00m \u001b[38;5;241m1\u001b[39m), test_df\u001b[38;5;241m.\u001b[39msentiment))\n\u001b[0;32m---> 50\u001b[0m X_train \u001b[38;5;241m=\u001b[39m \u001b[43mget_embeddings\u001b[49m\u001b[43m(\u001b[49m\u001b[43mraw_X_train\u001b[49m\u001b[43m)\u001b[49m\n\u001b[1;32m     51\u001b[0m X_test  \u001b[38;5;241m=\u001b[39m get_embeddings(raw_X_test)\n\u001b[1;32m     53\u001b[0m data_cache[\u001b[38;5;124m'\u001b[39m\u001b[38;5;124mTest_path\u001b[39m\u001b[38;5;124m'\u001b[39m] \u001b[38;5;241m=\u001b[39m test_file\n",
      "Input \u001b[0;32mIn [2]\u001b[0m, in \u001b[0;36mget_embeddings\u001b[0;34m(reviews)\u001b[0m\n\u001b[1;32m     75\u001b[0m \u001b[38;5;28;01mfrom\u001b[39;00m \u001b[38;5;21;01msentence_transformers\u001b[39;00m \u001b[38;5;28;01mimport\u001b[39;00m SentenceTransformer\n\u001b[1;32m     77\u001b[0m model \u001b[38;5;241m=\u001b[39m SentenceTransformer(\u001b[38;5;124m'\u001b[39m\u001b[38;5;124msentence-transformers/all-MiniLM-L12-v2\u001b[39m\u001b[38;5;124m'\u001b[39m)\u001b[38;5;66;03m#'sentence-transformers/paraphrase-MiniLM-L3-v2')\u001b[39;00m\n\u001b[0;32m---> 78\u001b[0m embeddings \u001b[38;5;241m=\u001b[39m \u001b[43mmodel\u001b[49m\u001b[38;5;241;43m.\u001b[39;49m\u001b[43mencode\u001b[49m\u001b[43m(\u001b[49m\u001b[43mreviews\u001b[49m\u001b[43m)\u001b[49m\n\u001b[1;32m     79\u001b[0m \u001b[38;5;28;01mreturn\u001b[39;00m embeddings\n",
      "File \u001b[0;32m~/.local/share/virtualenvs/CM50265-r1L_TYHD/lib/python3.8/site-packages/sentence_transformers/SentenceTransformer.py:187\u001b[0m, in \u001b[0;36mSentenceTransformer.encode\u001b[0;34m(self, sentences, batch_size, show_progress_bar, output_value, convert_to_numpy, convert_to_tensor, device, normalize_embeddings)\u001b[0m\n\u001b[1;32m    185\u001b[0m             \u001b[38;5;66;03m# fixes for #522 and #487 to avoid oom problems on gpu with large datasets\u001b[39;00m\n\u001b[1;32m    186\u001b[0m             \u001b[38;5;28;01mif\u001b[39;00m convert_to_numpy:\n\u001b[0;32m--> 187\u001b[0m                 embeddings \u001b[38;5;241m=\u001b[39m \u001b[43membeddings\u001b[49m\u001b[38;5;241;43m.\u001b[39;49m\u001b[43mcpu\u001b[49m\u001b[43m(\u001b[49m\u001b[43m)\u001b[49m\n\u001b[1;32m    189\u001b[0m         all_embeddings\u001b[38;5;241m.\u001b[39mextend(embeddings)\n\u001b[1;32m    191\u001b[0m all_embeddings \u001b[38;5;241m=\u001b[39m [all_embeddings[idx] \u001b[38;5;28;01mfor\u001b[39;00m idx \u001b[38;5;129;01min\u001b[39;00m np\u001b[38;5;241m.\u001b[39margsort(length_sorted_idx)]\n",
      "\u001b[0;31mKeyboardInterrupt\u001b[0m: "
     ]
    }
   ],
   "source": [
    "acc = test_func_boosting(\"movie_review_train.csv\", \"movie_review_test.csv\")\n",
    "print(\"Acc:\", acc)"
   ]
  },
  {
   "cell_type": "code",
   "execution_count": null,
   "id": "3ca42a29",
   "metadata": {
    "scrolled": false
   },
   "outputs": [],
   "source": [
    "from sklearn.metrics import accuracy_score  \n",
    "def crossval_boost(model, x, y, kfolds = 5):\n",
    "    from sklearn.model_selection import KFold\n",
    "    \n",
    "    kfold_accuracys = []\n",
    "    \n",
    "    kf = KFold(n_splits = kfolds)\n",
    "    train_x = kf.split(x,y)\n",
    "    #print(train_x)\n",
    "    \n",
    "    \n",
    "    for train_index, val_index in kf.split(x):\n",
    "        #print(train_index, val_index)\n",
    "        train_x = x[train_index]\n",
    "        train_y = y[train_index]\n",
    "        val_x = x[val_index]\n",
    "        val_y = y[val_index]\n",
    "        \n",
    "        bc = BoostingClassifier()\n",
    "        bc.fit(train_x, train_y)\n",
    "        Y_Pred = bc.predict(val_x)\n",
    "        acc = accuracy_score(val_y, Y_Pred)\n",
    "        \n",
    "        #print(acc)\n",
    "        kfold_accuracys.append(acc)\n",
    "        \n",
    "    return np.mean(kfold_accuracys)"
   ]
  },
  {
   "cell_type": "code",
   "execution_count": null,
   "id": "e714ebeb",
   "metadata": {},
   "outputs": [],
   "source": [
    "## Hyperparam tuning for gradboost\n",
    "\n",
    "from sklearn.model_selection import RandomizedSearchCV\n",
    "from scipy.stats import randint\n",
    "from scipy.stats import uniform\n",
    "\n",
    "#X_train, y_train, X_test, Y_test = extract_bag_of_words_train_test(\"movie_review_train.csv\", \"movie_review_test.csv\")\n",
    "\n",
    "\n",
    "def grid_search(params):\n",
    "    X_train, y_train, X_test, Y_test = extract_bag_of_words_train_test(\"movie_review_train.csv\", \"movie_review_test.csv\")\n",
    "    clfs = []\n",
    "    best_acc = 0\n",
    "\n",
    "    for num in params['num_classifiers']:\n",
    "        for max_depth in params['max_depth']:\n",
    "            clfs.append(BoostingClassifier(num, max_depth))\n",
    "    for clf in clfs:\n",
    "        accuracy = crossval_boost(clf, X_train, np.array(y_train), 5)\n",
    "        print('Acc:' , accuracy, 'Params:', clf.num_classifiers, clf.max_depth)\n",
    "        if accuracy > best_acc:\n",
    "            best_clf = clf\n",
    "            best_acc = accuracy\n",
    "            \n",
    "    print(\"Best Params:\", best_clf.num_classifiers, best_clf.max_depth)\n",
    "    return best_clf\n",
    "    \n",
    "grid = {'num_classifiers': [50, 100, 500], 'max_depth': [2, 5, 10]}\n",
    "best_clf = grid_search(grid)"
   ]
  },
  {
   "cell_type": "code",
   "execution_count": 7,
   "id": "58afdc04",
   "metadata": {},
   "outputs": [
    {
     "name": "stdout",
     "output_type": "stream",
     "text": [
      "                                                 review sentiment  Unnamed: 2\n",
      "0     Not a movie for everyone, but this movie is in...  positive         NaN\n",
      "1     This film is not your typical Hollywood fare, ...  positive         NaN\n",
      "2     RKO Radio Pictures made a real classic in 1947...  positive         NaN\n",
      "3     \"Transylvania 6-5000\" is an insignificant but ...  negative         NaN\n",
      "4     This is a very good, under-rated action/drama/...  positive         NaN\n",
      "...                                                 ...       ...         ...\n",
      "1495  The essential message - one which Miller would...  positive         NaN\n",
      "1496  This movie is tremendous for uplifting the Spi...  positive         NaN\n",
      "1497  I think this movie is different apart from mos...  positive         NaN\n",
      "1498  Brit director Chrstopher Nolan now has a caree...  positive         NaN\n",
      "1499  The Salena Incident is set in Arizona where si...  negative         NaN\n",
      "\n",
      "[1500 rows x 3 columns]\n",
      "                                                 review sentiment  Unnamed: 2\n",
      "1     This film is not your typical Hollywood fare, ...  positive         NaN\n",
      "2     RKO Radio Pictures made a real classic in 1947...  positive         NaN\n",
      "3     \"Transylvania 6-5000\" is an insignificant but ...  negative         NaN\n",
      "5     I almost made a fool of myself when I was goin...  negative         NaN\n",
      "6     \"You got any beans? Beans is good. You just ea...  negative         NaN\n",
      "...                                                 ...       ...         ...\n",
      "1494  I am new at this, so bear with me please. I am...  positive         NaN\n",
      "1495  The essential message - one which Miller would...  positive         NaN\n",
      "1496  This movie is tremendous for uplifting the Spi...  positive         NaN\n",
      "1497  I think this movie is different apart from mos...  positive         NaN\n",
      "1498  Brit director Chrstopher Nolan now has a caree...  positive         NaN\n",
      "\n",
      "[1072 rows x 3 columns]\n",
      "                                                 review sentiment  Unnamed: 2\n",
      "0     Not a movie for everyone, but this movie is in...  positive         NaN\n",
      "4     This is a very good, under-rated action/drama/...  positive         NaN\n",
      "8     When this movie was first shown on television ...  negative         NaN\n",
      "14    Flashes of lightning; a sprawling cemetery; th...  positive         NaN\n",
      "16    If you're familiar with the work of auteur Joh...  positive         NaN\n",
      "...                                                 ...       ...         ...\n",
      "1486  This movie was just as good as some of the oth...  positive         NaN\n",
      "1488  Ah, Batman Returns, is it possible to have a s...  positive         NaN\n",
      "1490  \"Four Daughters,\" a sentimental story of a sol...  positive         NaN\n",
      "1492  I just watched this movie on Showtime. Quite b...  positive         NaN\n",
      "1499  The Salena Incident is set in Arizona where si...  negative         NaN\n",
      "\n",
      "[428 rows x 3 columns]\n"
     ]
    },
    {
     "data": {
      "image/png": "[encoded data removed]",
      "text/plain": [
       "<Figure size 432x288 with 1 Axes>"
      ]
     },
     "metadata": {
      "needs_background": "light"
     },
     "output_type": "display_data"
    },
    {
     "data": {
      "image/png": "[encoded data removed]",
      "text/plain": [
       "<Figure size 432x288 with 1 Axes>"
      ]
     },
     "metadata": {
      "needs_background": "light"
     },
     "output_type": "display_data"
    },
    {
     "ename": "NameError",
     "evalue": "name 'misclass_samples' is not defined",
     "output_type": "error",
     "traceback": [
      "\u001b[0;31m---------------------------------------------------------------------------\u001b[0m",
      "\u001b[0;31mNameError\u001b[0m                                 Traceback (most recent call last)",
      "Input \u001b[0;32mIn [7]\u001b[0m, in \u001b[0;36m<cell line: 35>\u001b[0;34m()\u001b[0m\n\u001b[1;32m     33\u001b[0m plt\u001b[38;5;241m.\u001b[39mhist(correct_samples[\u001b[38;5;124m'\u001b[39m\u001b[38;5;124msentiment\u001b[39m\u001b[38;5;124m'\u001b[39m])\n\u001b[1;32m     34\u001b[0m plt\u001b[38;5;241m.\u001b[39mshow()\n\u001b[0;32m---> 35\u001b[0m plt\u001b[38;5;241m.\u001b[39mhist(\u001b[43mmisclass_samples\u001b[49m[\u001b[38;5;124m'\u001b[39m\u001b[38;5;124msentiment\u001b[39m\u001b[38;5;124m'\u001b[39m])\n\u001b[1;32m     36\u001b[0m plt\u001b[38;5;241m.\u001b[39mshow()\n",
      "\u001b[0;31mNameError\u001b[0m: name 'misclass_samples' is not defined"
     ]
    }
   ],
   "source": [
    "X_train, y_train, X_test, Y_test = extract_bag_of_words_train_test(\"movie_review_train.csv\", \"movie_review_test.csv\")\n",
    "raw_X_test = pd.read_csv(\"movie_review_test.csv\")\n",
    "\n",
    "\n",
    "bc = BoostingClassifier()\n",
    "bc.fit(X_train, y_train)\n",
    "\n",
    "Y_Pred = bc.predict(X_test)\n",
    "print(raw_X_test)\n",
    "\n",
    "correct_indices = np.nonzero(np.equal(Y_Pred, Y_test))\n",
    "misclassified_indices = np.nonzero(np.not_equal(Y_Pred, Y_test))\n",
    "\n",
    "correct_samples = raw_X_test.iloc[correct_indices]\n",
    "misclassified_samples = raw_X_test.iloc[misclassified_indices]\n",
    "\n",
    "print(correct_samples)\n",
    "print(misclassified_samples)\n",
    "\n",
    "correct_reviews = correct_samples['review']\n",
    "misclassified_reviews = misclassified_samples['review']\n",
    "\n",
    "correct_lengths = list(map(lambda x: len(x), correct_reviews))\n",
    "misclass_lengths = list(map(lambda x: len(x), misclassified_reviews))\n",
    "\n",
    "correct_sentiment = [1 if x == 'positive' else 0 for x in correct_samples['sentiment']]\n",
    "misclass_sentiment = [1 if x == 'positive' else 0 for x in misclassified_samples['sentiment']]\n",
    "\n",
    "plt.hist(correct_lengths)\n",
    "plt.hist(misclass_lengths)\n",
    "plt.show()\n",
    "\n",
    "plt.hist(correct_samples['sentiment'])\n",
    "plt.show()\n",
    "plt.hist(misclass_samples['sentiment'])\n",
    "plt.show()\n",
    "\n",
    "\n"
   ]
  }
 ],
 "metadata": {
  "kernelspec": {
   "display_name": "Python 3 (ipykernel)",
   "language": "python",
   "name": "python3"
  },
  "language_info": {
   "codemirror_mode": {
    "name": "ipython",
    "version": 3
   },
   "file_extension": ".py",
   "mimetype": "text/x-python",
   "name": "python",
   "nbconvert_exporter": "python",
   "pygments_lexer": "ipython3",
   "version": "3.8.10"
  }
 },
 "nbformat": 4,
 "nbformat_minor": 5
}
