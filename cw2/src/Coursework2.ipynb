{
 "cells": [
  {
   "cell_type": "markdown",
   "id": "44281064",
   "metadata": {},
   "source": [
    "### Coursework 2\n",
    "\n",
    "In this coursework you will be aiming to complete two classification tasks. \n",
    "Both the classification tasks relate to text classification tasks. \n",
    "\n",
    "One task is to be solved using Support Vector Machines. The other has to be solved using Boosting.\n",
    "\n",
    "The specific tasks and the marking for the various tasks are provided in the notebook. Each task is expected to be accompanied by a lab-report. Each task can have a concise lab report that is maximum of one page in an A4 size. You will be expected to submit your Jupyter Notebook and all lab reports as a single zip file. You could have additional functions implemented that you require for carrying out each task.\n"
   ]
  },
  {
   "cell_type": "markdown",
   "id": "221ffe46",
   "metadata": {},
   "source": [
    "#### Task 1\n",
    "\n",
    "In this task, you need to obtain sentiment analysis for the provided dataset. The dataset consists of movie reviews with the sentiments being provided. The sentiments are either positive or negative. You need to train an SVM based classifier to obtain train and check on the sample test dataset provided. The method will be evaluated also against an external test set. Please do not hardcode any dimensions or number of samples while writing the code. It should be possible to automate the testing and hardcoding values does not allow for automated testing. \n",
    "\n",
    "You are allowed to use scikit-learn to implement the SVM. However, you are expected to write your own kernels.\n",
    "\n",
    "You are allowed to use the existing library functions such as scikit-learn or numpy for obtaining the SVM. The main idea is to analyse the dataset using different kind of kernels. You are also supposed to write your own custom text kernels. Refer to the documentation provided [here](https://scikit-learn.org/stable/modules/svm.html) at 1.4.6.2 and an example [here](https://scikit-learn.org/stable/auto_examples/svm/plot_custom_kernel.html) for writing your own kernels.\n",
    "\n",
    "Details regarding the marking have been provided in the coursework specification file. Ensure that the code can be run with different test files. "
   ]
  },
  {
   "cell_type": "markdown",
   "id": "7385ce53",
   "metadata": {},
   "source": [
    "#### Process the text and obtain a bag of words-based features "
   ]
  },
  {
   "cell_type": "code",
   "execution_count": 1,
   "id": "e0ac481e",
   "metadata": {},
   "outputs": [],
   "source": [
    "\n",
    "import numpy as np\n",
    "import nltk\n",
    "import pandas as pd\n",
    "\n",
    "\n",
    "data_cache = {'Train_path':'', 'Test_path':'', 'X_train':None, 'y_train':None, 'X_test': None, 'y_train':None}\n",
    "\n",
    "def load_data(train_file, test_file):\n",
    "    # Read the CSV file and extract Bag of Words Features\n",
    "    \n",
    "    train_df = pd.read_csv(train_file)\n",
    "    test_df = pd.read_csv(test_file)\n",
    "    \n",
    "    raw_X_train = list(train_df.review)\n",
    "    y_train = list(map( (lambda x : 0 if x == 'negative' else 1), train_df.sentiment))\n",
    "    \n",
    "    raw_X_test = list(test_df.review)\n",
    "    y_test = list(map( (lambda x : 0 if x == 'negative' else 1), test_df.sentiment))\n",
    "    \n",
    "    return raw_train_x, train_y, raw_test_x, test_y \n",
    "\n",
    "def extract_bag_of_words_train_test(train_file, test_file):\n",
    "    if(data_cache['X_train'] is not None \n",
    "        and data_cache['y_train'] is not None\n",
    "        and data_cache['X_test']is not None\n",
    "        and data_cache['y_test'] is not None\n",
    "        and data_cache['Train_path'] == train_file\n",
    "        and data_cache['Test_path'] == test_file):\n",
    "        print('Getting from cache')\n",
    "        return (data_cache['X_train'], data_cache['y_train'], data_cache['X_test'], data_cache['y_train'])\n",
    "\n",
    "    # Read the CSV file and extract Bag of Words Features\n",
    "    train_df = pd.read_csv(train_file)\n",
    "    test_df = pd.read_csv(test_file)\n",
    "    \n",
    "    raw_X_train = list(train_df.review)\n",
    "    y_train = list(map( (lambda x : 0 if x == 'negative' else 1), train_df.sentiment))\n",
    "    \n",
    "    raw_X_test = list(test_df.review)\n",
    "    y_test = list(map( (lambda x : 0 if x == 'negative' else 1), test_df.sentiment))\n",
    "    \n",
    "    X_train = get_embeddings(raw_X_train)\n",
    "    X_test  = get_embeddings(raw_X_test)\n",
    "    \n",
    "    data_cache['Test_path'] = test_file\n",
    "    data_cache['Train_path'] = train_file\n",
    "    data_cache['X_train'] = X_train\n",
    "    data_cache['y_train'] = y_train\n",
    "    data_cache['X_test'] = X_test\n",
    "    data_cache['y_test'] = y_test\n",
    "    return (X_train, y_train, X_test, y_test)\n",
    "\n",
    "# def install_embedding_model():\n",
    "#     import importlib.util\n",
    "#     import subprocess\n",
    "#     import sys\n",
    "   \n",
    "#     package_name = 'sentence-transformers'\n",
    "\n",
    "#     #check if already installed\n",
    "#     spec = importlib.util.find_spec(package_name)\n",
    "#     if spec is None:\n",
    "#         subprocess.check_call([sys.executable, \"-m\", \"pip\", \"install\", package_name])\n",
    "\n",
    "def get_embeddings(reviews):\n",
    "    #\n",
    "    from sentence_transformers import SentenceTransformer\n",
    "\n",
    "    model = SentenceTransformer('sentence-transformers/all-MiniLM-L12-v2')#'sentence-transformers/paraphrase-MiniLM-L3-v2')\n",
    "    embeddings = model.encode(reviews)\n",
    "    return embeddings\n",
    "\n",
    "\n",
    "train_file = 'movie_review_test.csv'\n",
    "test_file =  'movie_review_test.csv'\n",
    "\n",
    "#x_test, y_train, x_test, y_test = extract_bag_of_words_train_test(train_file, test_file)\n",
    "#embeddings = get_embeddings(x)\n",
    "\n",
    "# print(len(x), len(y))\n",
    "# print(len(embeddings))"
   ]
  },
  {
   "cell_type": "code",
   "execution_count": null,
   "id": "02ff5be2",
   "metadata": {},
   "outputs": [],
   "source": [
    "install_embedding_model()"
   ]
  },
  {
   "cell_type": "code",
   "execution_count": 75,
   "id": "68b1dc54",
   "metadata": {},
   "outputs": [
    {
     "name": "stdout",
     "output_type": "stream",
     "text": [
      "(769,)\n"
     ]
    }
   ],
   "source": []
  },
  {
   "cell_type": "code",
   "execution_count": 3,
   "id": "e94c07a4",
   "metadata": {},
   "outputs": [],
   "source": [
    "import numpy as np\n",
    "from sklearn import svm\n",
    "\n",
    "class SVMClassifier:\n",
    "    def __init__(self):\n",
    "        \n",
    "        #implement initialisation\n",
    "        #self.some_paramter=1\n",
    "        self.clf = svm.SVC(decision_function_shape='ovo')\n",
    "        self.clf.kernel = 'rbf'\n",
    "        \n",
    "    # define your own kernel here\n",
    "    # Refer to the documentation here: https://scikit-learn.org/stable/auto_examples/svm/plot_custom_kernel.html\n",
    "    def fit(self, X,y):\n",
    "        # training of the SVM\n",
    "        # Ensure you call your own defined kernel here\n",
    "\n",
    "        self.clf.fit(X, y)\n",
    "               \n",
    "        return\n",
    "    \n",
    "    def predict(self, X):\n",
    "        # prediction routine for the SVM\n",
    "        predictions = self.clf.predict(X)\n",
    "        #print('predictions:', len(predictions))\n",
    "        \n",
    "        return predictions"
   ]
  },
  {
   "cell_type": "markdown",
   "id": "35e6f272",
   "metadata": {},
   "source": [
    "### Test function that will be called to evaluate your code. Separate test dataset will be provided\n",
    "\n",
    "Do not modify the code below. Please write your code above such that it can be evaluated by the function below. You can modify your code above such that you obtain the best performance through this function. "
   ]
  },
  {
   "cell_type": "code",
   "execution_count": 5,
   "id": "89603f43",
   "metadata": {},
   "outputs": [],
   "source": [
    "from sklearn.metrics import accuracy_score\n",
    "\n",
    "def test_func_svm(dataset_train, dataset_test):    \n",
    "    (X_train, Y_train, X_test, Y_test) = extract_bag_of_words_train_test(dataset_train, dataset_test)\n",
    "    sc = SVMClassifier()\n",
    "    #print(X_train, Y_train)\n",
    "    sc.fit(X_train, Y_train)\n",
    "    Y_Pred = sc.predict(X_test)\n",
    "    acc = accuracy_score(Y_test, Y_Pred)\n",
    "    #print(\"Accuracy:\",acc)\n",
    "    return acc\n",
    "\n",
    "def test_svm(model, train_x, train_y, test_x, test_y):  \n",
    "    sc = model \n",
    "    #print(X_train, Y_train)\n",
    "    sc.fit(train_x, train_y)\n",
    "    Y_Pred = sc.predict(test_x)\n",
    "    acc = accuracy_score(test_y, Y_Pred)\n",
    "    #print(\"Accuracy:\",acc)\n",
    "    return acc\n",
    "\n",
    "def crossval_svm(model, x, y, kfolds = 5):\n",
    "    from sklearn.model_selection import KFold\n",
    "    \n",
    "    kfold_accuracys = []\n",
    "    \n",
    "    kf = KFold(n_splits = kfolds)\n",
    "    train_x = kf.split(x,y)\n",
    "    #print(train_x)\n",
    "    \n",
    "    \n",
    "    for train_index, val_index in kf.split(x):\n",
    "        train_x = x[train_index]\n",
    "        train_y = y[train_index]\n",
    "        val_x = x[val_index]\n",
    "        val_y = y[val_index]\n",
    "        \n",
    "        acc = test_svm(model, train_x, train_y, val_x, val_y)\n",
    "        #print(acc)\n",
    "        kfold_accuracys.append(acc)\n",
    "        \n",
    "    return np.mean(kfold_accuracys)\n",
    "        \n"
   ]
  },
  {
   "cell_type": "code",
   "execution_count": 21,
   "id": "15ac1b1e",
   "metadata": {},
   "outputs": [
    {
     "name": "stdout",
     "output_type": "stream",
     "text": [
      "(5000,)\n"
     ]
    }
   ],
   "source": [
    "#X_train, y_train, X_test, y_test  = extract_bag_of_words_train_test(\"movie_review_train.csv\", \"movie_review_test.csv\")\n",
    "\n"
   ]
  },
  {
   "cell_type": "code",
   "execution_count": 10,
   "id": "4ffd4adf",
   "metadata": {},
   "outputs": [
    {
     "ename": "NameError",
     "evalue": "name 'X_train' is not defined",
     "output_type": "error",
     "traceback": [
      "\u001b[0;31m---------------------------------------------------------------------------\u001b[0m",
      "\u001b[0;31mNameError\u001b[0m                                 Traceback (most recent call last)",
      "Input \u001b[0;32mIn [10]\u001b[0m, in \u001b[0;36m<cell line: 7>\u001b[0;34m()\u001b[0m\n\u001b[1;32m      3\u001b[0m \u001b[38;5;66;03m#Hyperparams chosen with grid search, need to implement params in the wrapper constructor\u001b[39;00m\n\u001b[1;32m      4\u001b[0m \u001b[38;5;66;03m#model.clf = svm.SVC(decision_function_shape='ovo', kernel = 'rbf', gamma = 1, C = 1)\u001b[39;00m\n\u001b[1;32m      6\u001b[0m model\u001b[38;5;241m.\u001b[39mclf \u001b[38;5;241m=\u001b[39m svm\u001b[38;5;241m.\u001b[39mSVC(decision_function_shape\u001b[38;5;241m=\u001b[39m\u001b[38;5;124m'\u001b[39m\u001b[38;5;124movo\u001b[39m\u001b[38;5;124m'\u001b[39m, kernel \u001b[38;5;241m=\u001b[39m \u001b[38;5;124m'\u001b[39m\u001b[38;5;124mpoly\u001b[39m\u001b[38;5;124m'\u001b[39m, degree \u001b[38;5;241m=\u001b[39m \u001b[38;5;241m1\u001b[39m, C \u001b[38;5;241m=\u001b[39m \u001b[38;5;241m1\u001b[39m)\n\u001b[0;32m----> 7\u001b[0m cross_val_acc \u001b[38;5;241m=\u001b[39m crossval_svm(model, \u001b[43mX_train\u001b[49m, np\u001b[38;5;241m.\u001b[39marray(y_train))\n\u001b[1;32m      9\u001b[0m test_acc \u001b[38;5;241m=\u001b[39m test_func_svm(\u001b[38;5;124m\"\u001b[39m\u001b[38;5;124mmovie_review_train.csv\u001b[39m\u001b[38;5;124m\"\u001b[39m, \u001b[38;5;124m\"\u001b[39m\u001b[38;5;124mmovie_review_test.csv\u001b[39m\u001b[38;5;124m\"\u001b[39m)\n\u001b[1;32m     11\u001b[0m \u001b[38;5;28mprint\u001b[39m(\u001b[38;5;124m\"\u001b[39m\u001b[38;5;124mCross val accuracy: \u001b[39m\u001b[38;5;124m\"\u001b[39m, cross_val_acc, \u001b[38;5;124m\"\u001b[39m\u001b[38;5;124mTest accuracy: \u001b[39m\u001b[38;5;124m\"\u001b[39m, test_acc)\n",
      "\u001b[0;31mNameError\u001b[0m: name 'X_train' is not defined"
     ]
    }
   ],
   "source": [
    "#\n",
    "model = SVMClassifier()\n",
    "#Hyperparams chosen with grid search, need to implement params in the wrapper constructor\n",
    "#model.clf = svm.SVC(decision_function_shape='ovo', kernel = 'rbf', gamma = 1, C = 1)\n",
    "\n",
    "model.clf = svm.SVC(decision_function_shape='ovo', kernel = 'poly', degree = 1, C = 1)\n",
    "cross_val_acc = crossval_svm(model, X_train, np.array(y_train))\n",
    "\n",
    "test_acc = test_func_svm(\"movie_review_train.csv\", \"movie_review_test.csv\")\n",
    "\n",
    "print(\"Cross val accuracy: \", cross_val_acc, \"Test accuracy: \", test_acc)"
   ]
  },
  {
   "cell_type": "code",
   "execution_count": 62,
   "id": "12d08be7",
   "metadata": {},
   "outputs": [
    {
     "name": "stdout",
     "output_type": "stream",
     "text": [
      "{'C': 5488.145039273248, 'gamma': 7151.903663724195}\n"
     ]
    }
   ],
   "source": [
    "### rbf hyperparam tuning - very slow do not run - it resulted in c=1, gamma=1\n",
    "from sklearn.model_selection import GridSearchCV,StratifiedKFold\n",
    "\n",
    "C_range = 10. ** np.linspace(-3, 3, 15)\n",
    "gamma_range = 10. ** np.linspace(-3,4, 15)\n",
    "distributions = dict(C = uniform(loc=10e-3, scale=10e3), gamma = uniform(loc=10e-3, scale=10e3))\n",
    "\n",
    "#hyperparameters = {'C':C_range, 'gamma':gamma_range}\n",
    "svc = SVMClassifier()\n",
    "tuner = RandomizedSearchCV(svm.SVC(), distributions, scoring='accuracy', n_iter=20, random_state=0)\n",
    "tuner.fit(X_train, y_train)\n",
    "\n",
    "print(tuner.best_params_)"
   ]
  },
  {
   "cell_type": "code",
   "execution_count": 15,
   "id": "eb2d81e3",
   "metadata": {},
   "outputs": [
    {
     "name": "stdout",
     "output_type": "stream",
     "text": [
      "{'C': 1.0, 'degree': 1.0, 'kernel': 'poly'}\n"
     ]
    }
   ],
   "source": [
    "### polynomial hyperparam tuning - it chose 1, 1 again\n",
    "from sklearn.model_selection import GridSearchCV,StratifiedKFold\n",
    "\n",
    "C_range = 10. ** np.linspace(-3, 3, 15)\n",
    "degree_range = np.linspace(1, 20, 6)\n",
    "\n",
    "hyperparameters = {'kernel': ['poly'], 'C':C_range, 'degree':degree_range}\n",
    "svc = SVMClassifier()\n",
    "tuner = GridSearchCV(svc.clf, hyperparameters,scoring = 'accuracy', cv=StratifiedKFold(5))\n",
    "tuner.fit(X_train, y_train)\n",
    "\n",
    "print(tuner.best_params_)"
   ]
  },
  {
   "cell_type": "markdown",
   "id": "61056292",
   "metadata": {},
   "source": [
    "### Task 2\n",
    "\n",
    "In this task you need to implement a boosting based classifier that can be used to classify the images. \n",
    "\n",
    "Details regarding the marking for the coursework are provided in the coursework specification file. Please ensure that your code will work with a different test file than the one provided with the coursework.\n",
    "\n",
    "Note that the boosting classifier you implement can include decision trees from scikit-learn or your own decision trees. Use the same sentiment analysis dataset for evaluation."
   ]
  },
  {
   "cell_type": "code",
   "execution_count": 11,
   "id": "3805e672",
   "metadata": {},
   "outputs": [],
   "source": [
    "from sklearn.ensemble import AdaBoostClassifier\n",
    "from sklearn.ensemble import GradientBoostingClassifier\n",
    "from sklearn import tree\n",
    "import math\n",
    "class BoostingClassifier:\n",
    "    # You need to implement this classifier. \n",
    "    def __init__(self):\n",
    "        import numpy as np\n",
    "        #implement initialisation\n",
    "        self.num_classifiers = 100\n",
    "        self.classifiers = []\n",
    "        self.alphas = np.ones(self.num_classifiers)\n",
    "        self.alphas /= self.num_classifiers\n",
    "        \n",
    "    def fit(self, X,y):\n",
    "        signed_y = [1 if x == 1 else -1 for x in y]\n",
    "        num_samples = X.shape[0]\n",
    "        w = np.ones(num_samples)\n",
    "        w /= num_samples\n",
    "        alph = np.ones(self.num_classifiers)\n",
    "        #print(signed_y)\n",
    "        for c in range(self.num_classifiers):\n",
    "            clf = tree.DecisionTreeClassifier(max_depth = 1)\n",
    "            self.classifiers.append(clf)\n",
    "            \n",
    "            clf.fit(X, signed_y, sample_weight = w)\n",
    "            \n",
    "            #get predictions and calculate error rate\n",
    "            h = clf.predict(X)     \n",
    "            error_rate = np.count_nonzero(h == signed_y) / num_samples\n",
    "            #print('training:', h[:5])\n",
    "            #set classifier weight\n",
    "            self.alphas[c]  = 0.5 * math.log((1-error_rate)/error_rate)\n",
    "            #update sample weights\n",
    "            for i in range(num_samples):\n",
    "                w[i] *= math.exp(-1 * self.alphas[c] * signed_y[i] * h[i])\n",
    "                \n",
    "            w /= np.sum(w)\n",
    "        \n",
    "        #implement training of the boosting classifier\n",
    "        return self\n",
    "    \n",
    "    \n",
    "    def predict(self, X):\n",
    "        # implement prediction of the boosting classifier\n",
    "        h = []\n",
    "        for x in X:\n",
    "            cumsum = 0\n",
    "            for c in range(self.num_classifiers):\n",
    "                cumsum += self.alphas[c] * self.classifiers[c].predict(np.array(x).reshape(1,-1))\n",
    "            h.append(np.sign(cumsum))\n",
    "        #print('predicting:', h[:5])\n",
    "        return [0 if x < 0 else 1 for x in h]"
   ]
  },
  {
   "cell_type": "markdown",
   "id": "af6e0987",
   "metadata": {},
   "source": [
    "### Test function that will be called to evaluate your code. Separate test dataset will be provided\n",
    "\n",
    "Do not modify the code below. Please write your code above such that it can be evaluated by the function below. You can modify your code above such that you obtain the best performance through this function. "
   ]
  },
  {
   "cell_type": "code",
   "execution_count": 15,
   "id": "4632591c",
   "metadata": {},
   "outputs": [],
   "source": [
    "def test_func_boosting(dataset_train, dataset_test):\n",
    "    from sklearn.metrics import accuracy_score    \n",
    "    X_train, Y_train, X_test, Y_test = extract_bag_of_words_train_test(dataset_train, dataset_test)\n",
    "    bc = BoostingClassifier()\n",
    "    bc.fit(X_train, Y_train)\n",
    "    Y_Pred = bc.predict(X_test)    \n",
    "    acc = accuracy_score(Y_test, Y_Pred)\n",
    "    return acc"
   ]
  },
  {
   "cell_type": "code",
   "execution_count": 17,
   "id": "d6c27de1",
   "metadata": {},
   "outputs": [
    {
     "name": "stdout",
     "output_type": "stream",
     "text": [
      "Getting from cache\n"
     ]
    },
    {
     "ename": "ValueError",
     "evalue": "Found input variables with inconsistent numbers of samples: [5000, 1500]",
     "output_type": "error",
     "traceback": [
      "\u001b[0;31m---------------------------------------------------------------------------\u001b[0m",
      "\u001b[0;31mValueError\u001b[0m                                Traceback (most recent call last)",
      "Input \u001b[0;32mIn [17]\u001b[0m, in \u001b[0;36m<cell line: 1>\u001b[0;34m()\u001b[0m\n\u001b[0;32m----> 1\u001b[0m acc \u001b[38;5;241m=\u001b[39m \u001b[43mtest_func_boosting\u001b[49m\u001b[43m(\u001b[49m\u001b[38;5;124;43m\"\u001b[39;49m\u001b[38;5;124;43mmovie_review_train.csv\u001b[39;49m\u001b[38;5;124;43m\"\u001b[39;49m\u001b[43m,\u001b[49m\u001b[43m \u001b[49m\u001b[38;5;124;43m\"\u001b[39;49m\u001b[38;5;124;43mmovie_review_test.csv\u001b[39;49m\u001b[38;5;124;43m\"\u001b[39;49m\u001b[43m)\u001b[49m\n\u001b[1;32m      2\u001b[0m \u001b[38;5;28mprint\u001b[39m(acc)\n",
      "Input \u001b[0;32mIn [15]\u001b[0m, in \u001b[0;36mtest_func_boosting\u001b[0;34m(dataset_train, dataset_test)\u001b[0m\n\u001b[1;32m      5\u001b[0m bc\u001b[38;5;241m.\u001b[39mfit(X_train, Y_train)\n\u001b[1;32m      6\u001b[0m Y_Pred \u001b[38;5;241m=\u001b[39m bc\u001b[38;5;241m.\u001b[39mpredict(X_test)    \n\u001b[0;32m----> 7\u001b[0m acc \u001b[38;5;241m=\u001b[39m \u001b[43maccuracy_score\u001b[49m\u001b[43m(\u001b[49m\u001b[43mY_test\u001b[49m\u001b[43m,\u001b[49m\u001b[43m \u001b[49m\u001b[43mY_Pred\u001b[49m\u001b[43m)\u001b[49m\n\u001b[1;32m      8\u001b[0m \u001b[38;5;28;01mreturn\u001b[39;00m acc\n",
      "File \u001b[0;32m~/.local/share/virtualenvs/CM50265-r1L_TYHD/lib/python3.8/site-packages/sklearn/metrics/_classification.py:211\u001b[0m, in \u001b[0;36maccuracy_score\u001b[0;34m(y_true, y_pred, normalize, sample_weight)\u001b[0m\n\u001b[1;32m    145\u001b[0m \u001b[38;5;124;03m\"\"\"Accuracy classification score.\u001b[39;00m\n\u001b[1;32m    146\u001b[0m \n\u001b[1;32m    147\u001b[0m \u001b[38;5;124;03mIn multilabel classification, this function computes subset accuracy:\u001b[39;00m\n\u001b[0;32m   (...)\u001b[0m\n\u001b[1;32m    207\u001b[0m \u001b[38;5;124;03m0.5\u001b[39;00m\n\u001b[1;32m    208\u001b[0m \u001b[38;5;124;03m\"\"\"\u001b[39;00m\n\u001b[1;32m    210\u001b[0m \u001b[38;5;66;03m# Compute accuracy for each possible representation\u001b[39;00m\n\u001b[0;32m--> 211\u001b[0m y_type, y_true, y_pred \u001b[38;5;241m=\u001b[39m \u001b[43m_check_targets\u001b[49m\u001b[43m(\u001b[49m\u001b[43my_true\u001b[49m\u001b[43m,\u001b[49m\u001b[43m \u001b[49m\u001b[43my_pred\u001b[49m\u001b[43m)\u001b[49m\n\u001b[1;32m    212\u001b[0m check_consistent_length(y_true, y_pred, sample_weight)\n\u001b[1;32m    213\u001b[0m \u001b[38;5;28;01mif\u001b[39;00m y_type\u001b[38;5;241m.\u001b[39mstartswith(\u001b[38;5;124m\"\u001b[39m\u001b[38;5;124mmultilabel\u001b[39m\u001b[38;5;124m\"\u001b[39m):\n",
      "File \u001b[0;32m~/.local/share/virtualenvs/CM50265-r1L_TYHD/lib/python3.8/site-packages/sklearn/metrics/_classification.py:84\u001b[0m, in \u001b[0;36m_check_targets\u001b[0;34m(y_true, y_pred)\u001b[0m\n\u001b[1;32m     57\u001b[0m \u001b[38;5;28;01mdef\u001b[39;00m \u001b[38;5;21m_check_targets\u001b[39m(y_true, y_pred):\n\u001b[1;32m     58\u001b[0m     \u001b[38;5;124;03m\"\"\"Check that y_true and y_pred belong to the same classification task.\u001b[39;00m\n\u001b[1;32m     59\u001b[0m \n\u001b[1;32m     60\u001b[0m \u001b[38;5;124;03m    This converts multiclass or binary types to a common shape, and raises a\u001b[39;00m\n\u001b[0;32m   (...)\u001b[0m\n\u001b[1;32m     82\u001b[0m \u001b[38;5;124;03m    y_pred : array or indicator matrix\u001b[39;00m\n\u001b[1;32m     83\u001b[0m \u001b[38;5;124;03m    \"\"\"\u001b[39;00m\n\u001b[0;32m---> 84\u001b[0m     \u001b[43mcheck_consistent_length\u001b[49m\u001b[43m(\u001b[49m\u001b[43my_true\u001b[49m\u001b[43m,\u001b[49m\u001b[43m \u001b[49m\u001b[43my_pred\u001b[49m\u001b[43m)\u001b[49m\n\u001b[1;32m     85\u001b[0m     type_true \u001b[38;5;241m=\u001b[39m type_of_target(y_true)\n\u001b[1;32m     86\u001b[0m     type_pred \u001b[38;5;241m=\u001b[39m type_of_target(y_pred)\n",
      "File \u001b[0;32m~/.local/share/virtualenvs/CM50265-r1L_TYHD/lib/python3.8/site-packages/sklearn/utils/validation.py:332\u001b[0m, in \u001b[0;36mcheck_consistent_length\u001b[0;34m(*arrays)\u001b[0m\n\u001b[1;32m    330\u001b[0m uniques \u001b[38;5;241m=\u001b[39m np\u001b[38;5;241m.\u001b[39munique(lengths)\n\u001b[1;32m    331\u001b[0m \u001b[38;5;28;01mif\u001b[39;00m \u001b[38;5;28mlen\u001b[39m(uniques) \u001b[38;5;241m>\u001b[39m \u001b[38;5;241m1\u001b[39m:\n\u001b[0;32m--> 332\u001b[0m     \u001b[38;5;28;01mraise\u001b[39;00m \u001b[38;5;167;01mValueError\u001b[39;00m(\n\u001b[1;32m    333\u001b[0m         \u001b[38;5;124m\"\u001b[39m\u001b[38;5;124mFound input variables with inconsistent numbers of samples: \u001b[39m\u001b[38;5;132;01m%r\u001b[39;00m\u001b[38;5;124m\"\u001b[39m\n\u001b[1;32m    334\u001b[0m         \u001b[38;5;241m%\u001b[39m [\u001b[38;5;28mint\u001b[39m(l) \u001b[38;5;28;01mfor\u001b[39;00m l \u001b[38;5;129;01min\u001b[39;00m lengths]\n\u001b[1;32m    335\u001b[0m     )\n",
      "\u001b[0;31mValueError\u001b[0m: Found input variables with inconsistent numbers of samples: [5000, 1500]"
     ]
    }
   ],
   "source": [
    "acc = test_func_boosting(\"movie_review_train.csv\", \"movie_review_test.csv\")\n",
    "print(acc)"
   ]
  },
  {
   "cell_type": "code",
   "execution_count": 2,
   "id": "f404c0d0",
   "metadata": {},
   "outputs": [
    {
     "name": "stdout",
     "output_type": "stream",
     "text": [
      "(5000, 384)\n",
      "(5000,)\n",
      "(1500, 384)\n"
     ]
    }
   ],
   "source": [
    "X_train, Y_train, X_test, Y_test = extract_bag_of_words_train_test(\"movie_review_train.csv\", \"movie_review_test.csv\")\n",
    "print(X_train.shape)\n",
    "print(np.array(Y_train).shape)\n",
    "print(X_test.shape)"
   ]
  },
  {
   "cell_type": "code",
   "execution_count": 47,
   "id": "e714ebeb",
   "metadata": {},
   "outputs": [
    {
     "name": "stdout",
     "output_type": "stream",
     "text": [
      "{'learning_rate': 0.4375872112626925, 'n_estimators': 170}\n"
     ]
    }
   ],
   "source": [
    "## Hyperparam tuning for gradboost\n",
    "\n",
    "from sklearn.model_selection import RandomizedSearchCV\n",
    "from scipy.stats import randint\n",
    "\n",
    "\n",
    "distributions = dict(learning_rate=uniform(loc=0, scale=1), n_estimators = randint(100,  400) )\n",
    "grad_boost = GradientBoostingClassifier(max_depth = 1)\n",
    "\n",
    "clf = RandomizedSearchCV(grad_boost, distributions, random_state=0)\n",
    "\n",
    "clf.fit(X_train, y_train)\n",
    "print(clf.best_params_)"
   ]
  }
 ],
 "metadata": {
  "kernelspec": {
   "display_name": "Python 3 (ipykernel)",
   "language": "python",
   "name": "python3"
  },
  "language_info": {
   "codemirror_mode": {
    "name": "ipython",
    "version": 3
   },
   "file_extension": ".py",
   "mimetype": "text/x-python",
   "name": "python",
   "nbconvert_exporter": "python",
   "pygments_lexer": "ipython3",
   "version": "3.8.10"
  }
 },
 "nbformat": 4,
 "nbformat_minor": 5
}
